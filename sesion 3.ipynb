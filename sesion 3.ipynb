{
  "cells": [
    {
      "cell_type": "markdown",
      "metadata": {
        "id": "YiYIT1dFnZSa"
      },
      "source": [
        "# Ejercicio 1\n",
        "\n",
        "El siguiente código implementa un sistema de recomendación de películas. Ejecutar y analizar el código"
      ]
    },
    {
      "cell_type": "code",
      "execution_count": 19,
      "metadata": {
        "colab": {
          "base_uri": "https://localhost:8080/"
        },
        "id": "cJYSkJ2hVpFd",
        "outputId": "e6daebf6-62cf-4ce7-acda-924c7f23fd2e"
      },
      "outputs": [],
      "source": [
        "%matplotlib inline\n",
        "import pandas as pd\n",
        "import numpy as np\n",
        "import matplotlib.pyplot as plt\n",
        "import seaborn as sns\n",
        "from scipy import stats\n",
        "from ast import literal_eval\n",
        "from sklearn.feature_extraction.text import TfidfVectorizer, CountVectorizer\n",
        "from sklearn.metrics.pairwise import linear_kernel, cosine_similarity\n",
        "from nltk.stem.snowball import SnowballStemmer\n",
        "from nltk.stem.wordnet import WordNetLemmatizer\n",
        "from nltk.corpus import wordnet\n",
        "from surprise import Reader, Dataset, SVD\n",
        "from surprise.model_selection import cross_validate\n",
        "\n",
        "import warnings; warnings.simplefilter('ignore')"
      ]
    },
    {
      "cell_type": "markdown",
      "metadata": {},
      "source": []
    },
    {
      "cell_type": "markdown",
      "metadata": {
        "id": "al6Nh5cKouSK"
      },
      "source": [
        "## Un recomendaror Simple (basado únicamente en ratings)\n",
        "\n",
        "El Recomendador Simple ofrece recomendaciones generalizadas a cada usuario basadas en la popularidad de las películas y (a veces) en el género. La idea básica detrás de este recomendador es que las películas más populares y más aclamadas por la crítica tendrán una mayor probabilidad de ser del agrado del público promedio. Este modelo no ofrece recomendaciones personalizadas basadas en el usuario.\n",
        "\n",
        "La implementación de este modelo es extremadamente trivial. Todo lo que tenemos que hacer es ordenar nuestras películas según las calificaciones y la popularidad, y mostrar las mejores películas de nuestra lista. Como un paso adicional, podemos pasar un argumento de género para obtener las mejores películas de un género en particular."
      ]
    },
    {
      "cell_type": "code",
      "execution_count": 20,
      "metadata": {
        "colab": {
          "base_uri": "https://localhost:8080/",
          "height": 707
        },
        "id": "VxYv0G9_WQK9",
        "outputId": "fe7a33f0-60bd-4779-808d-d1ef2db1fc3e"
      },
      "outputs": [
        {
          "data": {
            "text/html": [
              "<div>\n",
              "<style scoped>\n",
              "    .dataframe tbody tr th:only-of-type {\n",
              "        vertical-align: middle;\n",
              "    }\n",
              "\n",
              "    .dataframe tbody tr th {\n",
              "        vertical-align: top;\n",
              "    }\n",
              "\n",
              "    .dataframe thead th {\n",
              "        text-align: right;\n",
              "    }\n",
              "</style>\n",
              "<table border=\"1\" class=\"dataframe\">\n",
              "  <thead>\n",
              "    <tr style=\"text-align: right;\">\n",
              "      <th></th>\n",
              "      <th>adult</th>\n",
              "      <th>belongs_to_collection</th>\n",
              "      <th>budget</th>\n",
              "      <th>genres</th>\n",
              "      <th>homepage</th>\n",
              "      <th>id</th>\n",
              "      <th>imdb_id</th>\n",
              "      <th>original_language</th>\n",
              "      <th>original_title</th>\n",
              "      <th>overview</th>\n",
              "      <th>...</th>\n",
              "      <th>release_date</th>\n",
              "      <th>revenue</th>\n",
              "      <th>runtime</th>\n",
              "      <th>spoken_languages</th>\n",
              "      <th>status</th>\n",
              "      <th>tagline</th>\n",
              "      <th>title</th>\n",
              "      <th>video</th>\n",
              "      <th>vote_average</th>\n",
              "      <th>vote_count</th>\n",
              "    </tr>\n",
              "  </thead>\n",
              "  <tbody>\n",
              "    <tr>\n",
              "      <th>0</th>\n",
              "      <td>False</td>\n",
              "      <td>{'id': 10194, 'name': 'Toy Story Collection', ...</td>\n",
              "      <td>30000000</td>\n",
              "      <td>[{'id': 16, 'name': 'Animation'}, {'id': 35, '...</td>\n",
              "      <td>http://toystory.disney.com/toy-story</td>\n",
              "      <td>862</td>\n",
              "      <td>tt0114709</td>\n",
              "      <td>en</td>\n",
              "      <td>Toy Story</td>\n",
              "      <td>Led by Woody, Andy's toys live happily in his ...</td>\n",
              "      <td>...</td>\n",
              "      <td>1995-10-30</td>\n",
              "      <td>373554033.0</td>\n",
              "      <td>81.0</td>\n",
              "      <td>[{'iso_639_1': 'en', 'name': 'English'}]</td>\n",
              "      <td>Released</td>\n",
              "      <td>NaN</td>\n",
              "      <td>Toy Story</td>\n",
              "      <td>False</td>\n",
              "      <td>7.7</td>\n",
              "      <td>5415.0</td>\n",
              "    </tr>\n",
              "    <tr>\n",
              "      <th>1</th>\n",
              "      <td>False</td>\n",
              "      <td>NaN</td>\n",
              "      <td>65000000</td>\n",
              "      <td>[{'id': 12, 'name': 'Adventure'}, {'id': 14, '...</td>\n",
              "      <td>NaN</td>\n",
              "      <td>8844</td>\n",
              "      <td>tt0113497</td>\n",
              "      <td>en</td>\n",
              "      <td>Jumanji</td>\n",
              "      <td>When siblings Judy and Peter discover an encha...</td>\n",
              "      <td>...</td>\n",
              "      <td>1995-12-15</td>\n",
              "      <td>262797249.0</td>\n",
              "      <td>104.0</td>\n",
              "      <td>[{'iso_639_1': 'en', 'name': 'English'}, {'iso...</td>\n",
              "      <td>Released</td>\n",
              "      <td>Roll the dice and unleash the excitement!</td>\n",
              "      <td>Jumanji</td>\n",
              "      <td>False</td>\n",
              "      <td>6.9</td>\n",
              "      <td>2413.0</td>\n",
              "    </tr>\n",
              "    <tr>\n",
              "      <th>2</th>\n",
              "      <td>False</td>\n",
              "      <td>{'id': 119050, 'name': 'Grumpy Old Men Collect...</td>\n",
              "      <td>0</td>\n",
              "      <td>[{'id': 10749, 'name': 'Romance'}, {'id': 35, ...</td>\n",
              "      <td>NaN</td>\n",
              "      <td>15602</td>\n",
              "      <td>tt0113228</td>\n",
              "      <td>en</td>\n",
              "      <td>Grumpier Old Men</td>\n",
              "      <td>A family wedding reignites the ancient feud be...</td>\n",
              "      <td>...</td>\n",
              "      <td>1995-12-22</td>\n",
              "      <td>0.0</td>\n",
              "      <td>101.0</td>\n",
              "      <td>[{'iso_639_1': 'en', 'name': 'English'}]</td>\n",
              "      <td>Released</td>\n",
              "      <td>Still Yelling. Still Fighting. Still Ready for...</td>\n",
              "      <td>Grumpier Old Men</td>\n",
              "      <td>False</td>\n",
              "      <td>6.5</td>\n",
              "      <td>92.0</td>\n",
              "    </tr>\n",
              "    <tr>\n",
              "      <th>3</th>\n",
              "      <td>False</td>\n",
              "      <td>NaN</td>\n",
              "      <td>16000000</td>\n",
              "      <td>[{'id': 35, 'name': 'Comedy'}, {'id': 18, 'nam...</td>\n",
              "      <td>NaN</td>\n",
              "      <td>31357</td>\n",
              "      <td>tt0114885</td>\n",
              "      <td>en</td>\n",
              "      <td>Waiting to Exhale</td>\n",
              "      <td>Cheated on, mistreated and stepped on, the wom...</td>\n",
              "      <td>...</td>\n",
              "      <td>1995-12-22</td>\n",
              "      <td>81452156.0</td>\n",
              "      <td>127.0</td>\n",
              "      <td>[{'iso_639_1': 'en', 'name': 'English'}]</td>\n",
              "      <td>Released</td>\n",
              "      <td>Friends are the people who let you be yourself...</td>\n",
              "      <td>Waiting to Exhale</td>\n",
              "      <td>False</td>\n",
              "      <td>6.1</td>\n",
              "      <td>34.0</td>\n",
              "    </tr>\n",
              "    <tr>\n",
              "      <th>4</th>\n",
              "      <td>False</td>\n",
              "      <td>{'id': 96871, 'name': 'Father of the Bride Col...</td>\n",
              "      <td>0</td>\n",
              "      <td>[{'id': 35, 'name': 'Comedy'}]</td>\n",
              "      <td>NaN</td>\n",
              "      <td>11862</td>\n",
              "      <td>tt0113041</td>\n",
              "      <td>en</td>\n",
              "      <td>Father of the Bride Part II</td>\n",
              "      <td>Just when George Banks has recovered from his ...</td>\n",
              "      <td>...</td>\n",
              "      <td>1995-02-10</td>\n",
              "      <td>76578911.0</td>\n",
              "      <td>106.0</td>\n",
              "      <td>[{'iso_639_1': 'en', 'name': 'English'}]</td>\n",
              "      <td>Released</td>\n",
              "      <td>Just When His World Is Back To Normal... He's ...</td>\n",
              "      <td>Father of the Bride Part II</td>\n",
              "      <td>False</td>\n",
              "      <td>5.7</td>\n",
              "      <td>173.0</td>\n",
              "    </tr>\n",
              "  </tbody>\n",
              "</table>\n",
              "<p>5 rows × 24 columns</p>\n",
              "</div>"
            ],
            "text/plain": [
              "   adult                              belongs_to_collection    budget  \\\n",
              "0  False  {'id': 10194, 'name': 'Toy Story Collection', ...  30000000   \n",
              "1  False                                                NaN  65000000   \n",
              "2  False  {'id': 119050, 'name': 'Grumpy Old Men Collect...         0   \n",
              "3  False                                                NaN  16000000   \n",
              "4  False  {'id': 96871, 'name': 'Father of the Bride Col...         0   \n",
              "\n",
              "                                              genres  \\\n",
              "0  [{'id': 16, 'name': 'Animation'}, {'id': 35, '...   \n",
              "1  [{'id': 12, 'name': 'Adventure'}, {'id': 14, '...   \n",
              "2  [{'id': 10749, 'name': 'Romance'}, {'id': 35, ...   \n",
              "3  [{'id': 35, 'name': 'Comedy'}, {'id': 18, 'nam...   \n",
              "4                     [{'id': 35, 'name': 'Comedy'}]   \n",
              "\n",
              "                               homepage     id    imdb_id original_language  \\\n",
              "0  http://toystory.disney.com/toy-story    862  tt0114709                en   \n",
              "1                                   NaN   8844  tt0113497                en   \n",
              "2                                   NaN  15602  tt0113228                en   \n",
              "3                                   NaN  31357  tt0114885                en   \n",
              "4                                   NaN  11862  tt0113041                en   \n",
              "\n",
              "                original_title  \\\n",
              "0                    Toy Story   \n",
              "1                      Jumanji   \n",
              "2             Grumpier Old Men   \n",
              "3            Waiting to Exhale   \n",
              "4  Father of the Bride Part II   \n",
              "\n",
              "                                            overview  ... release_date  \\\n",
              "0  Led by Woody, Andy's toys live happily in his ...  ...   1995-10-30   \n",
              "1  When siblings Judy and Peter discover an encha...  ...   1995-12-15   \n",
              "2  A family wedding reignites the ancient feud be...  ...   1995-12-22   \n",
              "3  Cheated on, mistreated and stepped on, the wom...  ...   1995-12-22   \n",
              "4  Just when George Banks has recovered from his ...  ...   1995-02-10   \n",
              "\n",
              "       revenue runtime                                   spoken_languages  \\\n",
              "0  373554033.0    81.0           [{'iso_639_1': 'en', 'name': 'English'}]   \n",
              "1  262797249.0   104.0  [{'iso_639_1': 'en', 'name': 'English'}, {'iso...   \n",
              "2          0.0   101.0           [{'iso_639_1': 'en', 'name': 'English'}]   \n",
              "3   81452156.0   127.0           [{'iso_639_1': 'en', 'name': 'English'}]   \n",
              "4   76578911.0   106.0           [{'iso_639_1': 'en', 'name': 'English'}]   \n",
              "\n",
              "     status                                            tagline  \\\n",
              "0  Released                                                NaN   \n",
              "1  Released          Roll the dice and unleash the excitement!   \n",
              "2  Released  Still Yelling. Still Fighting. Still Ready for...   \n",
              "3  Released  Friends are the people who let you be yourself...   \n",
              "4  Released  Just When His World Is Back To Normal... He's ...   \n",
              "\n",
              "                         title  video vote_average vote_count  \n",
              "0                    Toy Story  False          7.7     5415.0  \n",
              "1                      Jumanji  False          6.9     2413.0  \n",
              "2             Grumpier Old Men  False          6.5       92.0  \n",
              "3            Waiting to Exhale  False          6.1       34.0  \n",
              "4  Father of the Bride Part II  False          5.7      173.0  \n",
              "\n",
              "[5 rows x 24 columns]"
            ]
          },
          "execution_count": 20,
          "metadata": {},
          "output_type": "execute_result"
        }
      ],
      "source": [
        "md = pd. read_csv('movies/movies_metadata.csv')\n",
        "md.head()"
      ]
    },
    {
      "cell_type": "code",
      "execution_count": 21,
      "metadata": {
        "id": "Ojb9N6DcV7pg"
      },
      "outputs": [],
      "source": [
        "md['genres'] = md['genres'].fillna('[]').apply(literal_eval).apply(lambda x: [i['name'] for i in x] if isinstance(x, list) else [])"
      ]
    },
    {
      "cell_type": "code",
      "execution_count": 22,
      "metadata": {
        "colab": {
          "base_uri": "https://localhost:8080/"
        },
        "id": "P_nwBaLBW2Xk",
        "outputId": "78d9641a-8e4d-4997-cedf-ef25e523e9b0"
      },
      "outputs": [
        {
          "data": {
            "text/plain": [
              "5.244896612406511"
            ]
          },
          "execution_count": 22,
          "metadata": {},
          "output_type": "execute_result"
        }
      ],
      "source": [
        "vote_counts = md[md['vote_count'].notnull()]['vote_count'].astype('int')\n",
        "vote_averages = md[md['vote_average'].notnull()]['vote_average'].astype('int')\n",
        "C = vote_averages.mean()\n",
        "C"
      ]
    },
    {
      "cell_type": "code",
      "execution_count": 23,
      "metadata": {
        "colab": {
          "base_uri": "https://localhost:8080/"
        },
        "id": "R3_rhJGgW7SL",
        "outputId": "622f8cbb-ad5b-47c4-d066-ef0fe29bacf7"
      },
      "outputs": [
        {
          "data": {
            "text/plain": [
              "434.0"
            ]
          },
          "execution_count": 23,
          "metadata": {},
          "output_type": "execute_result"
        }
      ],
      "source": [
        "m = vote_counts.quantile(0.95)\n",
        "m"
      ]
    },
    {
      "cell_type": "code",
      "execution_count": 24,
      "metadata": {
        "id": "Op4hkaPXXAlU"
      },
      "outputs": [],
      "source": [
        "md['year'] = pd.to_datetime(md['release_date'], errors='coerce').apply(lambda x: str(x).split('-')[0] if x != np.nan else np.nan)"
      ]
    },
    {
      "cell_type": "code",
      "execution_count": 25,
      "metadata": {
        "colab": {
          "base_uri": "https://localhost:8080/"
        },
        "id": "SVSowqZ0XBGU",
        "outputId": "9c191d73-95a6-4543-c2bc-a00764a01be3"
      },
      "outputs": [
        {
          "data": {
            "text/plain": [
              "(2274, 6)"
            ]
          },
          "execution_count": 25,
          "metadata": {},
          "output_type": "execute_result"
        }
      ],
      "source": [
        "qualified = md[(md['vote_count'] >= m) & (md['vote_count'].notnull()) & (md['vote_average'].notnull())][['title', 'year', 'vote_count', 'vote_average', 'popularity', 'genres']]\n",
        "qualified['vote_count'] = qualified['vote_count'].astype('int')\n",
        "qualified['vote_average'] = qualified['vote_average'].astype('int')\n",
        "qualified.shape"
      ]
    },
    {
      "cell_type": "code",
      "execution_count": 26,
      "metadata": {
        "id": "4nIZmF4PXDg0"
      },
      "outputs": [],
      "source": [
        "def weighted_rating(x):\n",
        "    v = x['vote_count']\n",
        "    R = x['vote_average']\n",
        "    return (v/(v+m) * R) + (m/(m+v) * C)"
      ]
    },
    {
      "cell_type": "code",
      "execution_count": 27,
      "metadata": {
        "id": "_UeMxGm9XFvs"
      },
      "outputs": [],
      "source": [
        "qualified['wr'] = qualified.apply(weighted_rating, axis=1)\n",
        "qualified = qualified.sort_values('wr', ascending=False).head(250)\n"
      ]
    },
    {
      "cell_type": "code",
      "execution_count": 28,
      "metadata": {
        "colab": {
          "base_uri": "https://localhost:8080/",
          "height": 520
        },
        "id": "t1YhnoKWXJkT",
        "outputId": "de5ee6c5-960b-43d4-f8e0-9c72ba6c9bd9"
      },
      "outputs": [
        {
          "data": {
            "text/html": [
              "<div>\n",
              "<style scoped>\n",
              "    .dataframe tbody tr th:only-of-type {\n",
              "        vertical-align: middle;\n",
              "    }\n",
              "\n",
              "    .dataframe tbody tr th {\n",
              "        vertical-align: top;\n",
              "    }\n",
              "\n",
              "    .dataframe thead th {\n",
              "        text-align: right;\n",
              "    }\n",
              "</style>\n",
              "<table border=\"1\" class=\"dataframe\">\n",
              "  <thead>\n",
              "    <tr style=\"text-align: right;\">\n",
              "      <th></th>\n",
              "      <th>title</th>\n",
              "      <th>year</th>\n",
              "      <th>vote_count</th>\n",
              "      <th>vote_average</th>\n",
              "      <th>popularity</th>\n",
              "      <th>genres</th>\n",
              "      <th>wr</th>\n",
              "    </tr>\n",
              "  </thead>\n",
              "  <tbody>\n",
              "    <tr>\n",
              "      <th>15480</th>\n",
              "      <td>Inception</td>\n",
              "      <td>2010</td>\n",
              "      <td>14075</td>\n",
              "      <td>8</td>\n",
              "      <td>29.108149</td>\n",
              "      <td>[Action, Thriller, Science Fiction, Mystery, A...</td>\n",
              "      <td>7.917588</td>\n",
              "    </tr>\n",
              "    <tr>\n",
              "      <th>12481</th>\n",
              "      <td>The Dark Knight</td>\n",
              "      <td>2008</td>\n",
              "      <td>12269</td>\n",
              "      <td>8</td>\n",
              "      <td>123.167259</td>\n",
              "      <td>[Drama, Action, Crime, Thriller]</td>\n",
              "      <td>7.905871</td>\n",
              "    </tr>\n",
              "    <tr>\n",
              "      <th>22879</th>\n",
              "      <td>Interstellar</td>\n",
              "      <td>2014</td>\n",
              "      <td>11187</td>\n",
              "      <td>8</td>\n",
              "      <td>32.213481</td>\n",
              "      <td>[Adventure, Drama, Science Fiction]</td>\n",
              "      <td>7.897107</td>\n",
              "    </tr>\n",
              "    <tr>\n",
              "      <th>2843</th>\n",
              "      <td>Fight Club</td>\n",
              "      <td>1999</td>\n",
              "      <td>9678</td>\n",
              "      <td>8</td>\n",
              "      <td>63.869599</td>\n",
              "      <td>[Drama]</td>\n",
              "      <td>7.881753</td>\n",
              "    </tr>\n",
              "    <tr>\n",
              "      <th>4863</th>\n",
              "      <td>The Lord of the Rings: The Fellowship of the Ring</td>\n",
              "      <td>2001</td>\n",
              "      <td>8892</td>\n",
              "      <td>8</td>\n",
              "      <td>32.070725</td>\n",
              "      <td>[Adventure, Fantasy, Action]</td>\n",
              "      <td>7.871787</td>\n",
              "    </tr>\n",
              "    <tr>\n",
              "      <th>292</th>\n",
              "      <td>Pulp Fiction</td>\n",
              "      <td>1994</td>\n",
              "      <td>8670</td>\n",
              "      <td>8</td>\n",
              "      <td>140.950236</td>\n",
              "      <td>[Thriller, Crime]</td>\n",
              "      <td>7.868660</td>\n",
              "    </tr>\n",
              "    <tr>\n",
              "      <th>314</th>\n",
              "      <td>The Shawshank Redemption</td>\n",
              "      <td>1994</td>\n",
              "      <td>8358</td>\n",
              "      <td>8</td>\n",
              "      <td>51.645403</td>\n",
              "      <td>[Drama, Crime]</td>\n",
              "      <td>7.864000</td>\n",
              "    </tr>\n",
              "    <tr>\n",
              "      <th>7000</th>\n",
              "      <td>The Lord of the Rings: The Return of the King</td>\n",
              "      <td>2003</td>\n",
              "      <td>8226</td>\n",
              "      <td>8</td>\n",
              "      <td>29.324358</td>\n",
              "      <td>[Adventure, Fantasy, Action]</td>\n",
              "      <td>7.861927</td>\n",
              "    </tr>\n",
              "    <tr>\n",
              "      <th>351</th>\n",
              "      <td>Forrest Gump</td>\n",
              "      <td>1994</td>\n",
              "      <td>8147</td>\n",
              "      <td>8</td>\n",
              "      <td>48.307194</td>\n",
              "      <td>[Comedy, Drama, Romance]</td>\n",
              "      <td>7.860656</td>\n",
              "    </tr>\n",
              "    <tr>\n",
              "      <th>5814</th>\n",
              "      <td>The Lord of the Rings: The Two Towers</td>\n",
              "      <td>2002</td>\n",
              "      <td>7641</td>\n",
              "      <td>8</td>\n",
              "      <td>29.423537</td>\n",
              "      <td>[Adventure, Fantasy, Action]</td>\n",
              "      <td>7.851924</td>\n",
              "    </tr>\n",
              "    <tr>\n",
              "      <th>256</th>\n",
              "      <td>Star Wars</td>\n",
              "      <td>1977</td>\n",
              "      <td>6778</td>\n",
              "      <td>8</td>\n",
              "      <td>42.149697</td>\n",
              "      <td>[Adventure, Action, Science Fiction]</td>\n",
              "      <td>7.834205</td>\n",
              "    </tr>\n",
              "    <tr>\n",
              "      <th>1225</th>\n",
              "      <td>Back to the Future</td>\n",
              "      <td>1985</td>\n",
              "      <td>6239</td>\n",
              "      <td>8</td>\n",
              "      <td>25.778509</td>\n",
              "      <td>[Adventure, Comedy, Science Fiction, Family]</td>\n",
              "      <td>7.820813</td>\n",
              "    </tr>\n",
              "    <tr>\n",
              "      <th>834</th>\n",
              "      <td>The Godfather</td>\n",
              "      <td>1972</td>\n",
              "      <td>6024</td>\n",
              "      <td>8</td>\n",
              "      <td>41.109264</td>\n",
              "      <td>[Drama, Crime]</td>\n",
              "      <td>7.814847</td>\n",
              "    </tr>\n",
              "    <tr>\n",
              "      <th>1154</th>\n",
              "      <td>The Empire Strikes Back</td>\n",
              "      <td>1980</td>\n",
              "      <td>5998</td>\n",
              "      <td>8</td>\n",
              "      <td>19.470959</td>\n",
              "      <td>[Adventure, Action, Science Fiction]</td>\n",
              "      <td>7.814099</td>\n",
              "    </tr>\n",
              "    <tr>\n",
              "      <th>46</th>\n",
              "      <td>Se7en</td>\n",
              "      <td>1995</td>\n",
              "      <td>5915</td>\n",
              "      <td>8</td>\n",
              "      <td>18.45743</td>\n",
              "      <td>[Crime, Mystery, Thriller]</td>\n",
              "      <td>7.811669</td>\n",
              "    </tr>\n",
              "  </tbody>\n",
              "</table>\n",
              "</div>"
            ],
            "text/plain": [
              "                                                   title  year  vote_count  \\\n",
              "15480                                          Inception  2010       14075   \n",
              "12481                                    The Dark Knight  2008       12269   \n",
              "22879                                       Interstellar  2014       11187   \n",
              "2843                                          Fight Club  1999        9678   \n",
              "4863   The Lord of the Rings: The Fellowship of the Ring  2001        8892   \n",
              "292                                         Pulp Fiction  1994        8670   \n",
              "314                             The Shawshank Redemption  1994        8358   \n",
              "7000       The Lord of the Rings: The Return of the King  2003        8226   \n",
              "351                                         Forrest Gump  1994        8147   \n",
              "5814               The Lord of the Rings: The Two Towers  2002        7641   \n",
              "256                                            Star Wars  1977        6778   \n",
              "1225                                  Back to the Future  1985        6239   \n",
              "834                                        The Godfather  1972        6024   \n",
              "1154                             The Empire Strikes Back  1980        5998   \n",
              "46                                                 Se7en  1995        5915   \n",
              "\n",
              "       vote_average  popularity  \\\n",
              "15480             8   29.108149   \n",
              "12481             8  123.167259   \n",
              "22879             8   32.213481   \n",
              "2843              8   63.869599   \n",
              "4863              8   32.070725   \n",
              "292               8  140.950236   \n",
              "314               8   51.645403   \n",
              "7000              8   29.324358   \n",
              "351               8   48.307194   \n",
              "5814              8   29.423537   \n",
              "256               8   42.149697   \n",
              "1225              8   25.778509   \n",
              "834               8   41.109264   \n",
              "1154              8   19.470959   \n",
              "46                8    18.45743   \n",
              "\n",
              "                                                  genres        wr  \n",
              "15480  [Action, Thriller, Science Fiction, Mystery, A...  7.917588  \n",
              "12481                   [Drama, Action, Crime, Thriller]  7.905871  \n",
              "22879                [Adventure, Drama, Science Fiction]  7.897107  \n",
              "2843                                             [Drama]  7.881753  \n",
              "4863                        [Adventure, Fantasy, Action]  7.871787  \n",
              "292                                    [Thriller, Crime]  7.868660  \n",
              "314                                       [Drama, Crime]  7.864000  \n",
              "7000                        [Adventure, Fantasy, Action]  7.861927  \n",
              "351                             [Comedy, Drama, Romance]  7.860656  \n",
              "5814                        [Adventure, Fantasy, Action]  7.851924  \n",
              "256                 [Adventure, Action, Science Fiction]  7.834205  \n",
              "1225        [Adventure, Comedy, Science Fiction, Family]  7.820813  \n",
              "834                                       [Drama, Crime]  7.814847  \n",
              "1154                [Adventure, Action, Science Fiction]  7.814099  \n",
              "46                            [Crime, Mystery, Thriller]  7.811669  "
            ]
          },
          "execution_count": 28,
          "metadata": {},
          "output_type": "execute_result"
        }
      ],
      "source": [
        "qualified.head(15)\n"
      ]
    },
    {
      "cell_type": "code",
      "execution_count": 29,
      "metadata": {
        "id": "uoPdGSCvXLqM"
      },
      "outputs": [],
      "source": [
        "s = md.apply(lambda x: pd.Series(x['genres']),axis=1).stack().reset_index(level=1, drop=True)\n",
        "s.name = 'genre'\n",
        "gen_md = md.drop('genres', axis=1).join(s)"
      ]
    },
    {
      "cell_type": "code",
      "execution_count": 30,
      "metadata": {
        "id": "nYBx7_J_XQbE"
      },
      "outputs": [],
      "source": [
        "def build_chart(genre, percentile=0.85):\n",
        "    df = gen_md[gen_md['genre'] == genre]\n",
        "    vote_counts = df[df['vote_count'].notnull()]['vote_count'].astype('int')\n",
        "    vote_averages = df[df['vote_average'].notnull()]['vote_average'].astype('int')\n",
        "    C = vote_averages.mean()\n",
        "    m = vote_counts.quantile(percentile)\n",
        "\n",
        "    qualified = df[(df['vote_count'] >= m) & (df['vote_count'].notnull()) & (df['vote_average'].notnull())][['title', 'year', 'vote_count', 'vote_average', 'popularity']]\n",
        "    qualified['vote_count'] = qualified['vote_count'].astype('int')\n",
        "    qualified['vote_average'] = qualified['vote_average'].astype('int')\n",
        "\n",
        "    qualified['wr'] = qualified.apply(lambda x: (x['vote_count']/(x['vote_count']+m) * x['vote_average']) + (m/(m+x['vote_count']) * C), axis=1)\n",
        "    qualified = qualified.sort_values('wr', ascending=False).head(250)\n",
        "\n",
        "    return qualified"
      ]
    },
    {
      "cell_type": "code",
      "execution_count": 31,
      "metadata": {
        "colab": {
          "base_uri": "https://localhost:8080/",
          "height": 520
        },
        "id": "hI-2XczwXS80",
        "outputId": "964c0aa6-a792-4a35-dd9b-59995ab366b3"
      },
      "outputs": [
        {
          "data": {
            "text/html": [
              "<div>\n",
              "<style scoped>\n",
              "    .dataframe tbody tr th:only-of-type {\n",
              "        vertical-align: middle;\n",
              "    }\n",
              "\n",
              "    .dataframe tbody tr th {\n",
              "        vertical-align: top;\n",
              "    }\n",
              "\n",
              "    .dataframe thead th {\n",
              "        text-align: right;\n",
              "    }\n",
              "</style>\n",
              "<table border=\"1\" class=\"dataframe\">\n",
              "  <thead>\n",
              "    <tr style=\"text-align: right;\">\n",
              "      <th></th>\n",
              "      <th>title</th>\n",
              "      <th>year</th>\n",
              "      <th>vote_count</th>\n",
              "      <th>vote_average</th>\n",
              "      <th>popularity</th>\n",
              "      <th>wr</th>\n",
              "    </tr>\n",
              "  </thead>\n",
              "  <tbody>\n",
              "    <tr>\n",
              "      <th>10309</th>\n",
              "      <td>Dilwale Dulhania Le Jayenge</td>\n",
              "      <td>1995</td>\n",
              "      <td>661</td>\n",
              "      <td>9</td>\n",
              "      <td>34.457024</td>\n",
              "      <td>8.565285</td>\n",
              "    </tr>\n",
              "    <tr>\n",
              "      <th>351</th>\n",
              "      <td>Forrest Gump</td>\n",
              "      <td>1994</td>\n",
              "      <td>8147</td>\n",
              "      <td>8</td>\n",
              "      <td>48.307194</td>\n",
              "      <td>7.971357</td>\n",
              "    </tr>\n",
              "    <tr>\n",
              "      <th>876</th>\n",
              "      <td>Vertigo</td>\n",
              "      <td>1958</td>\n",
              "      <td>1162</td>\n",
              "      <td>8</td>\n",
              "      <td>18.20822</td>\n",
              "      <td>7.811667</td>\n",
              "    </tr>\n",
              "    <tr>\n",
              "      <th>40251</th>\n",
              "      <td>Your Name.</td>\n",
              "      <td>2016</td>\n",
              "      <td>1030</td>\n",
              "      <td>8</td>\n",
              "      <td>34.461252</td>\n",
              "      <td>7.789489</td>\n",
              "    </tr>\n",
              "    <tr>\n",
              "      <th>883</th>\n",
              "      <td>Some Like It Hot</td>\n",
              "      <td>1959</td>\n",
              "      <td>835</td>\n",
              "      <td>8</td>\n",
              "      <td>11.845107</td>\n",
              "      <td>7.745154</td>\n",
              "    </tr>\n",
              "    <tr>\n",
              "      <th>1132</th>\n",
              "      <td>Cinema Paradiso</td>\n",
              "      <td>1988</td>\n",
              "      <td>834</td>\n",
              "      <td>8</td>\n",
              "      <td>14.177005</td>\n",
              "      <td>7.744878</td>\n",
              "    </tr>\n",
              "    <tr>\n",
              "      <th>19901</th>\n",
              "      <td>Paperman</td>\n",
              "      <td>2012</td>\n",
              "      <td>734</td>\n",
              "      <td>8</td>\n",
              "      <td>7.198633</td>\n",
              "      <td>7.713951</td>\n",
              "    </tr>\n",
              "    <tr>\n",
              "      <th>37863</th>\n",
              "      <td>Sing Street</td>\n",
              "      <td>2016</td>\n",
              "      <td>669</td>\n",
              "      <td>8</td>\n",
              "      <td>10.672862</td>\n",
              "      <td>7.689483</td>\n",
              "    </tr>\n",
              "    <tr>\n",
              "      <th>882</th>\n",
              "      <td>The Apartment</td>\n",
              "      <td>1960</td>\n",
              "      <td>498</td>\n",
              "      <td>8</td>\n",
              "      <td>11.994281</td>\n",
              "      <td>7.599317</td>\n",
              "    </tr>\n",
              "    <tr>\n",
              "      <th>38718</th>\n",
              "      <td>The Handmaiden</td>\n",
              "      <td>2016</td>\n",
              "      <td>453</td>\n",
              "      <td>8</td>\n",
              "      <td>16.727405</td>\n",
              "      <td>7.566166</td>\n",
              "    </tr>\n",
              "    <tr>\n",
              "      <th>3189</th>\n",
              "      <td>City Lights</td>\n",
              "      <td>1931</td>\n",
              "      <td>444</td>\n",
              "      <td>8</td>\n",
              "      <td>10.891524</td>\n",
              "      <td>7.558867</td>\n",
              "    </tr>\n",
              "    <tr>\n",
              "      <th>24886</th>\n",
              "      <td>The Way He Looks</td>\n",
              "      <td>2014</td>\n",
              "      <td>262</td>\n",
              "      <td>8</td>\n",
              "      <td>5.711274</td>\n",
              "      <td>7.331363</td>\n",
              "    </tr>\n",
              "    <tr>\n",
              "      <th>45437</th>\n",
              "      <td>In a Heartbeat</td>\n",
              "      <td>2017</td>\n",
              "      <td>146</td>\n",
              "      <td>8</td>\n",
              "      <td>20.82178</td>\n",
              "      <td>7.003959</td>\n",
              "    </tr>\n",
              "    <tr>\n",
              "      <th>1639</th>\n",
              "      <td>Titanic</td>\n",
              "      <td>1997</td>\n",
              "      <td>7770</td>\n",
              "      <td>7</td>\n",
              "      <td>26.88907</td>\n",
              "      <td>6.981546</td>\n",
              "    </tr>\n",
              "    <tr>\n",
              "      <th>19731</th>\n",
              "      <td>Silver Linings Playbook</td>\n",
              "      <td>2012</td>\n",
              "      <td>4840</td>\n",
              "      <td>7</td>\n",
              "      <td>14.488111</td>\n",
              "      <td>6.970581</td>\n",
              "    </tr>\n",
              "  </tbody>\n",
              "</table>\n",
              "</div>"
            ],
            "text/plain": [
              "                             title  year  vote_count  vote_average popularity  \\\n",
              "10309  Dilwale Dulhania Le Jayenge  1995         661             9  34.457024   \n",
              "351                   Forrest Gump  1994        8147             8  48.307194   \n",
              "876                        Vertigo  1958        1162             8   18.20822   \n",
              "40251                   Your Name.  2016        1030             8  34.461252   \n",
              "883               Some Like It Hot  1959         835             8  11.845107   \n",
              "1132               Cinema Paradiso  1988         834             8  14.177005   \n",
              "19901                     Paperman  2012         734             8   7.198633   \n",
              "37863                  Sing Street  2016         669             8  10.672862   \n",
              "882                  The Apartment  1960         498             8  11.994281   \n",
              "38718               The Handmaiden  2016         453             8  16.727405   \n",
              "3189                   City Lights  1931         444             8  10.891524   \n",
              "24886             The Way He Looks  2014         262             8   5.711274   \n",
              "45437               In a Heartbeat  2017         146             8   20.82178   \n",
              "1639                       Titanic  1997        7770             7   26.88907   \n",
              "19731      Silver Linings Playbook  2012        4840             7  14.488111   \n",
              "\n",
              "             wr  \n",
              "10309  8.565285  \n",
              "351    7.971357  \n",
              "876    7.811667  \n",
              "40251  7.789489  \n",
              "883    7.745154  \n",
              "1132   7.744878  \n",
              "19901  7.713951  \n",
              "37863  7.689483  \n",
              "882    7.599317  \n",
              "38718  7.566166  \n",
              "3189   7.558867  \n",
              "24886  7.331363  \n",
              "45437  7.003959  \n",
              "1639   6.981546  \n",
              "19731  6.970581  "
            ]
          },
          "execution_count": 31,
          "metadata": {},
          "output_type": "execute_result"
        }
      ],
      "source": [
        "build_chart('Romance').head(15)"
      ]
    },
    {
      "cell_type": "markdown",
      "metadata": {
        "id": "5sFoRRdCpQnO"
      },
      "source": [
        "## Recomendador basado en contenido\n",
        "\n",
        "El recomendador construido en la sección anterior tiene limitaciones importantes, como el hecho de dar las mismas recomendaciones a todos los usuarios, sin considerar sus gustos personales. Incluso si revisara los gráficos por género, no recibiría las mejores recomendaciones.\n",
        "\n",
        "Para personalizar las recomendaciones, se construirá un sistema que calcule la similitud entre películas basándose en ciertos parámetros y sugiera películas similares a las que le gustaron a un usuario. Como utilizaremos los metadatos de las películas para construir este motor, se conoce como Filtrado Basado en Contenido. Se construirán dos recomendadores basados en contenido utilizando: descripciones y frases de las películas, y el elenco, equipo, palabras clave y género de las películas. Además, se usará un subconjunto de todas las películas disponibles debido a las limitaciones de potencia de cálculo."
      ]
    },
    {
      "cell_type": "code",
      "execution_count": 32,
      "metadata": {
        "colab": {
          "base_uri": "https://localhost:8080/"
        },
        "id": "RQ05OuifXV1k",
        "outputId": "5d359039-042e-4a10-df8a-05ebe97b75b2"
      },
      "outputs": [
        {
          "data": {
            "text/plain": [
              "(9099, 25)"
            ]
          },
          "execution_count": 32,
          "metadata": {},
          "output_type": "execute_result"
        }
      ],
      "source": [
        "links_small = pd.read_csv('movies/links_small.csv')\n",
        "links_small = links_small[links_small['tmdbId'].notnull()]['tmdbId'].astype('int')\n",
        "\n",
        "md = md.drop([19730, 29503, 35587])\n",
        "\n",
        "md['id'] = md['id'].astype('int')\n",
        "\n",
        "smd = md[md['id'].isin(links_small)]\n",
        "smd.shape"
      ]
    },
    {
      "cell_type": "code",
      "execution_count": 33,
      "metadata": {
        "id": "CArXv8nFXmYb"
      },
      "outputs": [],
      "source": [
        "smd['tagline'] = smd['tagline'].fillna('')\n",
        "smd['description'] = smd['overview'] + smd['tagline']\n",
        "smd['description'] = smd['description'].fillna('')"
      ]
    },
    {
      "cell_type": "markdown",
      "metadata": {
        "id": "iRww9F5zqpfT"
      },
      "source": [
        "### Recomendador Basado en Descripciones de Películas\n",
        "\n",
        "Primero intentemos construir un recomendador utilizando las descripciones y las frases de las películas."
      ]
    },
    {
      "cell_type": "code",
      "execution_count": 34,
      "metadata": {
        "id": "k13aBkM0Xpkb"
      },
      "outputs": [],
      "source": [
        "tf = TfidfVectorizer(analyzer='word',ngram_range=(1, 2), min_df=1, stop_words='english')\n",
        "tfidf_matrix = tf.fit_transform(smd['description'])"
      ]
    },
    {
      "cell_type": "code",
      "execution_count": 35,
      "metadata": {
        "colab": {
          "base_uri": "https://localhost:8080/"
        },
        "id": "7i7VvDL_Xr4r",
        "outputId": "be852a52-3cb4-4673-f17c-949a2ab367b6"
      },
      "outputs": [
        {
          "data": {
            "text/plain": [
              "(9099, 268124)"
            ]
          },
          "execution_count": 35,
          "metadata": {},
          "output_type": "execute_result"
        }
      ],
      "source": [
        "tfidf_matrix.shape\n"
      ]
    },
    {
      "cell_type": "code",
      "execution_count": 36,
      "metadata": {
        "colab": {
          "base_uri": "https://localhost:8080/"
        },
        "id": "f8U0wHQtZAgr",
        "outputId": "ccf95365-73a3-4b98-aa85-9d4782549ef3"
      },
      "outputs": [
        {
          "data": {
            "text/plain": [
              "array([1.        , 0.00680476, 0.        , ..., 0.        , 0.00344913,\n",
              "       0.        ])"
            ]
          },
          "execution_count": 36,
          "metadata": {},
          "output_type": "execute_result"
        }
      ],
      "source": [
        "# similaridad del coseno\n",
        "cosine_sim = linear_kernel(tfidf_matrix, tfidf_matrix)\n",
        "\n",
        "cosine_sim[0]\n"
      ]
    },
    {
      "cell_type": "markdown",
      "metadata": {
        "id": "FwfmthGlrJDX"
      },
      "source": [
        "Ahora tenemos una matriz de similitud de coseno por pares para todas las películas en nuestro conjunto de datos. El siguiente paso es escribir una función que devuelva las 30 películas más similares basadas en la puntuación de similitud de coseno."
      ]
    },
    {
      "cell_type": "code",
      "execution_count": 37,
      "metadata": {
        "id": "8_6AJ8RjZEq7"
      },
      "outputs": [],
      "source": [
        "smd = smd.reset_index()\n",
        "titles = smd['title']\n",
        "indices = pd.Series(smd.index, index=smd['title'])"
      ]
    },
    {
      "cell_type": "code",
      "execution_count": 38,
      "metadata": {
        "id": "45XaGH1QZG77"
      },
      "outputs": [],
      "source": [
        "def get_recommendations(title):\n",
        "    idx = indices[title]\n",
        "    sim_scores = list(enumerate(cosine_sim[idx]))\n",
        "    sim_scores = sorted(sim_scores, key=lambda x: x[1], reverse=True)\n",
        "    sim_scores = sim_scores[1:31]\n",
        "    movie_indices = [i[0] for i in sim_scores]\n",
        "    return titles.iloc[movie_indices]"
      ]
    },
    {
      "cell_type": "markdown",
      "metadata": {
        "id": "zDX6vPOYrdik"
      },
      "source": [
        "Con la función implementada, se pueden calcular las distancias hacia las películas en base a su descripción, con un título de película"
      ]
    },
    {
      "cell_type": "code",
      "execution_count": 39,
      "metadata": {
        "colab": {
          "base_uri": "https://localhost:8080/",
          "height": 398
        },
        "id": "XjkINwwQZJRr",
        "outputId": "08b42a83-a58e-49cd-fc73-af85d433d071"
      },
      "outputs": [
        {
          "data": {
            "text/plain": [
              "973      The Godfather: Part II\n",
              "8387                 The Family\n",
              "3509                       Made\n",
              "4196         Johnny Dangerously\n",
              "29               Shanghai Triad\n",
              "5667                       Fury\n",
              "2412             American Movie\n",
              "1582    The Godfather: Part III\n",
              "4221                    8 Women\n",
              "2159              Summer of Sam\n",
              "Name: title, dtype: object"
            ]
          },
          "execution_count": 39,
          "metadata": {},
          "output_type": "execute_result"
        }
      ],
      "source": [
        "get_recommendations('The Godfather').head(10)\n"
      ]
    },
    {
      "cell_type": "code",
      "execution_count": 40,
      "metadata": {
        "colab": {
          "base_uri": "https://localhost:8080/",
          "height": 398
        },
        "id": "RebnNmZDZLRr",
        "outputId": "f60f1fb4-2599-4850-9fa3-988f6fc5e3cd"
      },
      "outputs": [
        {
          "data": {
            "text/plain": [
              "7931                      The Dark Knight Rises\n",
              "132                              Batman Forever\n",
              "1113                             Batman Returns\n",
              "8227    Batman: The Dark Knight Returns, Part 2\n",
              "7565                 Batman: Under the Red Hood\n",
              "524                                      Batman\n",
              "7901                           Batman: Year One\n",
              "2579               Batman: Mask of the Phantasm\n",
              "2696                                        JFK\n",
              "8165    Batman: The Dark Knight Returns, Part 1\n",
              "Name: title, dtype: object"
            ]
          },
          "execution_count": 40,
          "metadata": {},
          "output_type": "execute_result"
        }
      ],
      "source": [
        "get_recommendations('The Dark Knight').head(10)\n"
      ]
    },
    {
      "cell_type": "markdown",
      "metadata": {
        "id": "yKxg9fiwsEvD"
      },
      "source": [
        "## Recomendador Basado en Metadatos\n",
        "\n",
        "Para construir nuestro recomendador de contenido estándar basado en metadatos, necesitaremos fusionar nuestro conjunto de datos actual con los conjuntos de datos del equipo y las palabras clave. Preparemos estos datos como nuestro primer paso."
      ]
    },
    {
      "cell_type": "code",
      "execution_count": 41,
      "metadata": {
        "id": "qRmrZGkAZNNC"
      },
      "outputs": [],
      "source": [
        "keywords = pd.read_csv('movies/keywords.csv')\n",
        "credits = pd.read_csv('movies/credits.csv')"
      ]
    },
    {
      "cell_type": "code",
      "execution_count": 42,
      "metadata": {
        "id": "dzBjzKXobuwy"
      },
      "outputs": [],
      "source": [
        "keywords['id'] = keywords['id'].astype('int')\n",
        "credits['id'] = credits['id'].astype('int')\n",
        "md['id'] = md['id'].astype('int')"
      ]
    },
    {
      "cell_type": "code",
      "execution_count": 43,
      "metadata": {
        "colab": {
          "base_uri": "https://localhost:8080/"
        },
        "id": "_ur4UnLrbvoS",
        "outputId": "ff2a846f-f032-4d44-90cc-41bcddc72f80"
      },
      "outputs": [
        {
          "data": {
            "text/plain": [
              "(45463, 25)"
            ]
          },
          "execution_count": 43,
          "metadata": {},
          "output_type": "execute_result"
        }
      ],
      "source": [
        "md.shape"
      ]
    },
    {
      "cell_type": "code",
      "execution_count": 44,
      "metadata": {
        "id": "0semnp5ubxlp"
      },
      "outputs": [],
      "source": [
        "md = md.merge(credits, on='id')\n",
        "md = md.merge(keywords, on='id')"
      ]
    },
    {
      "cell_type": "code",
      "execution_count": 45,
      "metadata": {
        "colab": {
          "base_uri": "https://localhost:8080/"
        },
        "id": "t4Kxb4xDb1UJ",
        "outputId": "c197d451-17df-4bd8-e59e-77742f181ca5"
      },
      "outputs": [
        {
          "data": {
            "text/plain": [
              "(9219, 28)"
            ]
          },
          "execution_count": 45,
          "metadata": {},
          "output_type": "execute_result"
        }
      ],
      "source": [
        "smd = md[md['id'].isin(links_small)]\n",
        "smd.shape"
      ]
    },
    {
      "cell_type": "markdown",
      "metadata": {
        "id": "ucRqzYCesWof"
      },
      "source": [
        "Ahora tenemos nuestro elenco, equipo, géneros y créditos, todos en un solo dataset. Manipulemos esto un poco más usando las siguientes intuiciones:\n",
        "\n",
        "Equipo: Del equipo, solo seleccionaremos al director como nuestra característica, ya que los demás no contribuyen tanto a la esencia de la película.\n",
        "\n",
        "Elenco: Elegir el elenco es un poco más complicado. Los actores menos conocidos y los roles menores no afectan realmente la opinión de las personas sobre una película. Por lo tanto, solo debemos seleccionar a los personajes principales y sus respectivos actores. De manera arbitraria, elegiremos a los 3 actores principales que aparecen en la lista de créditos."
      ]
    },
    {
      "cell_type": "code",
      "execution_count": 46,
      "metadata": {
        "id": "PnpYjgUeb3vB"
      },
      "outputs": [],
      "source": [
        "smd['cast'] = smd['cast'].apply(literal_eval)\n",
        "smd['crew'] = smd['crew'].apply(literal_eval)\n",
        "smd['keywords'] = smd['keywords'].apply(literal_eval)\n",
        "smd['cast_size'] = smd['cast'].apply(lambda x: len(x))\n",
        "smd['crew_size'] = smd['crew'].apply(lambda x: len(x))"
      ]
    },
    {
      "cell_type": "code",
      "execution_count": 47,
      "metadata": {
        "id": "Hgs7_wwFb5eC"
      },
      "outputs": [],
      "source": [
        "def get_director(x):\n",
        "    for i in x:\n",
        "        if i['job'] == 'Director':\n",
        "            return i['name']\n",
        "    return np.nan"
      ]
    },
    {
      "cell_type": "code",
      "execution_count": 48,
      "metadata": {
        "id": "JWT91kZfb7vy"
      },
      "outputs": [],
      "source": [
        "smd['director'] = smd['crew'].apply(get_director)\n",
        "\n",
        "\n",
        "smd['cast'] = smd['cast'].apply(lambda x: [i['name'] for i in x] if isinstance(x, list) else [])\n",
        "smd['cast'] = smd['cast'].apply(lambda x: x[:3] if len(x) >=3 else x)\n",
        "\n",
        "smd['keywords'] = smd['keywords'].apply(lambda x: [i['name'] for i in x] if isinstance(x, list) else [])"
      ]
    },
    {
      "cell_type": "markdown",
      "metadata": {
        "id": "UMSGisOMsxW8"
      },
      "source": [
        " Se planeo crear un volcado de metadatos para cada película que consiste en géneros, director, actores principales y palabras clave. Luego, utilizar un Count Vectorizer para crear nuestra matriz de conteo, como hicimos en el Recomendador de Descripción. Los pasos restantes son similares a los que hicimos antes: calculamos las similitudes de coseno y devolvemos las películas que son más similares.\n",
        "\n",
        "Estos son los pasos que sigo en la preparación de mis datos de géneros y créditos:\n",
        "\n",
        "1. Eliminar espacios y convertir a minúsculas todas nuestras características. De esta manera, nuestro motor no confundirá entre Johnny Depp y Johnny Galecki.\n",
        "2. Mencionar al director 3 veces para darle más peso en relación con todo el elenco."
      ]
    },
    {
      "cell_type": "code",
      "execution_count": 49,
      "metadata": {
        "id": "W7a2O-clcA7C"
      },
      "outputs": [],
      "source": [
        "smd['cast'] = smd['cast'].apply(lambda x: [str.lower(i.replace(\" \", \"\")) for i in x])\n",
        "\n",
        "smd['director'] = smd['director'].astype('str').apply(lambda x: str.lower(x.replace(\" \", \"\")))\n",
        "smd['director'] = smd['director'].apply(lambda x: [x,x, x])\n",
        "\n",
        "s = smd.apply(lambda x: pd.Series(x['keywords']),axis=1).stack().reset_index(level=1, drop=True)\n",
        "s.name = 'keyword'"
      ]
    },
    {
      "cell_type": "markdown",
      "metadata": {
        "id": "dUO9uAn7tRTT"
      },
      "source": [
        "Palabras Clave\n",
        "\n",
        "Realizaremos una pequeña cantidad de preprocesamiento de nuestras palabras clave antes de usarlas. Como primer paso, calculamos los conteos de frecuencia de cada palabra clave que aparece en el conjunto de datos."
      ]
    },
    {
      "cell_type": "code",
      "execution_count": 50,
      "metadata": {
        "colab": {
          "base_uri": "https://localhost:8080/",
          "height": 272
        },
        "id": "EZ6-kBCScQ4i",
        "outputId": "3e72840c-c8a2-4e6e-abfa-1830c6fec772"
      },
      "outputs": [
        {
          "data": {
            "text/plain": [
              "keyword\n",
              "independent film        610\n",
              "woman director          550\n",
              "murder                  399\n",
              "duringcreditsstinger    327\n",
              "based on novel          318\n",
              "Name: count, dtype: int64"
            ]
          },
          "execution_count": 50,
          "metadata": {},
          "output_type": "execute_result"
        }
      ],
      "source": [
        "s = s.value_counts()\n",
        "s[:5]"
      ]
    },
    {
      "cell_type": "markdown",
      "metadata": {
        "id": "ufSRwToctlfU"
      },
      "source": [
        "Eliminar palabras poco repetidas y realizar el proceso de steming"
      ]
    },
    {
      "cell_type": "code",
      "execution_count": 51,
      "metadata": {
        "id": "eG84pMLxcS_R"
      },
      "outputs": [],
      "source": [
        "s = s[s > 1]"
      ]
    },
    {
      "cell_type": "code",
      "execution_count": 52,
      "metadata": {
        "colab": {
          "base_uri": "https://localhost:8080/",
          "height": 398
        },
        "id": "I_q33-gucZ6C",
        "outputId": "25d31549-ba25-4ae7-bde3-95f38dac8883"
      },
      "outputs": [
        {
          "data": {
            "text/plain": [
              "7991         The Dark Knight Rises\n",
              "6186                 Batman Begins\n",
              "6587                  The Prestige\n",
              "2077                     Following\n",
              "7608                     Inception\n",
              "4125                      Insomnia\n",
              "3373                       Memento\n",
              "8573                  Interstellar\n",
              "7619    Batman: Under the Red Hood\n",
              "1122                Batman Returns\n",
              "Name: title, dtype: object"
            ]
          },
          "execution_count": 52,
          "metadata": {},
          "output_type": "execute_result"
        }
      ],
      "source": [
        "stemmer = SnowballStemmer('english')\n",
        "stemmer.stem('dogs')\n",
        "\n",
        "def filter_keywords(x):\n",
        "    words = []\n",
        "    for i in x:\n",
        "        if i in s:\n",
        "            words.append(i)\n",
        "    return words\n",
        "\n",
        "smd['keywords'] = smd['keywords'].apply(filter_keywords)\n",
        "smd['keywords'] = smd['keywords'].apply(lambda x: [stemmer.stem(i) for i in x])\n",
        "smd['keywords'] = smd['keywords'].apply(lambda x: [str.lower(i.replace(\" \", \"\")) for i in x])\n",
        "\n",
        "\n",
        "smd['soup'] = smd['keywords'] + smd['cast'] + smd['director'] + smd['genres']\n",
        "smd['soup'] = smd['soup'].apply(lambda x: ' '.join(x))\n",
        "\n",
        "count = CountVectorizer(analyzer='word',ngram_range=(1, 2),min_df=1, stop_words='english')\n",
        "count_matrix = count.fit_transform(smd['soup'])\n",
        "\n",
        "cosine_sim = cosine_similarity(count_matrix, count_matrix)\n",
        "\n",
        "smd = smd.reset_index()\n",
        "titles = smd['title']\n",
        "indices = pd.Series(smd.index, index=smd['title'])\n",
        "\n",
        "get_recommendations('The Dark Knight').head(10)\n"
      ]
    },
    {
      "cell_type": "markdown",
      "metadata": {
        "id": "M69lSxtXt5lt"
      },
      "source": [
        "Reutilizaremos la función get_recommendations que escribimos anteriormente. Dado que nuestras puntuaciones de similitud de coseno han cambiado, esperamos obtener resultados diferentes (y probablemente mejores). Verifiquemos con \"The Dark Knight\" nuevamente y veamos qué recomendaciones obtengo esta vez."
      ]
    },
    {
      "cell_type": "code",
      "execution_count": 53,
      "metadata": {
        "id": "bYJMKqp8cuKS"
      },
      "outputs": [],
      "source": [
        "def improved_recommendations(title):\n",
        "    idx = indices[title]\n",
        "    sim_scores = list(enumerate(cosine_sim[idx]))\n",
        "    sim_scores = sorted(sim_scores, key=lambda x: x[1], reverse=True)\n",
        "    sim_scores = sim_scores[1:26]\n",
        "    movie_indices = [i[0] for i in sim_scores]\n",
        "\n",
        "    movies = smd.iloc[movie_indices][['title', 'vote_count', 'vote_average', 'year']]\n",
        "    vote_counts = movies[movies['vote_count'].notnull()]['vote_count'].astype('int')\n",
        "    vote_averages = movies[movies['vote_average'].notnull()]['vote_average'].astype('int')\n",
        "    C = vote_averages.mean()\n",
        "    m = vote_counts.quantile(0.60)\n",
        "    qualified = movies[(movies['vote_count'] >= m) & (movies['vote_count'].notnull()) & (movies['vote_average'].notnull())]\n",
        "    qualified['vote_count'] = qualified['vote_count'].astype('int')\n",
        "    qualified['vote_average'] = qualified['vote_average'].astype('int')\n",
        "    qualified['wr'] = qualified.apply(weighted_rating, axis=1)\n",
        "    qualified = qualified.sort_values('wr', ascending=False).head(10)\n",
        "    return qualified"
      ]
    },
    {
      "cell_type": "code",
      "execution_count": 54,
      "metadata": {
        "colab": {
          "base_uri": "https://localhost:8080/",
          "height": 363
        },
        "id": "QQ1mcMx1cz_6",
        "outputId": "fe31b0ef-79f1-4b83-f617-9db8e23cbd86"
      },
      "outputs": [
        {
          "data": {
            "text/html": [
              "<div>\n",
              "<style scoped>\n",
              "    .dataframe tbody tr th:only-of-type {\n",
              "        vertical-align: middle;\n",
              "    }\n",
              "\n",
              "    .dataframe tbody tr th {\n",
              "        vertical-align: top;\n",
              "    }\n",
              "\n",
              "    .dataframe thead th {\n",
              "        text-align: right;\n",
              "    }\n",
              "</style>\n",
              "<table border=\"1\" class=\"dataframe\">\n",
              "  <thead>\n",
              "    <tr style=\"text-align: right;\">\n",
              "      <th></th>\n",
              "      <th>title</th>\n",
              "      <th>vote_count</th>\n",
              "      <th>vote_average</th>\n",
              "      <th>year</th>\n",
              "      <th>wr</th>\n",
              "    </tr>\n",
              "  </thead>\n",
              "  <tbody>\n",
              "    <tr>\n",
              "      <th>7608</th>\n",
              "      <td>Inception</td>\n",
              "      <td>14075</td>\n",
              "      <td>8</td>\n",
              "      <td>2010</td>\n",
              "      <td>7.917588</td>\n",
              "    </tr>\n",
              "    <tr>\n",
              "      <th>8573</th>\n",
              "      <td>Interstellar</td>\n",
              "      <td>11187</td>\n",
              "      <td>8</td>\n",
              "      <td>2014</td>\n",
              "      <td>7.897107</td>\n",
              "    </tr>\n",
              "    <tr>\n",
              "      <th>6587</th>\n",
              "      <td>The Prestige</td>\n",
              "      <td>4510</td>\n",
              "      <td>8</td>\n",
              "      <td>2006</td>\n",
              "      <td>7.758148</td>\n",
              "    </tr>\n",
              "    <tr>\n",
              "      <th>3373</th>\n",
              "      <td>Memento</td>\n",
              "      <td>4168</td>\n",
              "      <td>8</td>\n",
              "      <td>2000</td>\n",
              "      <td>7.740175</td>\n",
              "    </tr>\n",
              "    <tr>\n",
              "      <th>7991</th>\n",
              "      <td>The Dark Knight Rises</td>\n",
              "      <td>9263</td>\n",
              "      <td>7</td>\n",
              "      <td>2012</td>\n",
              "      <td>6.921448</td>\n",
              "    </tr>\n",
              "    <tr>\n",
              "      <th>6186</th>\n",
              "      <td>Batman Begins</td>\n",
              "      <td>7511</td>\n",
              "      <td>7</td>\n",
              "      <td>2005</td>\n",
              "      <td>6.904127</td>\n",
              "    </tr>\n",
              "    <tr>\n",
              "      <th>1122</th>\n",
              "      <td>Batman Returns</td>\n",
              "      <td>1706</td>\n",
              "      <td>6</td>\n",
              "      <td>1992</td>\n",
              "      <td>5.846862</td>\n",
              "    </tr>\n",
              "    <tr>\n",
              "      <th>132</th>\n",
              "      <td>Batman Forever</td>\n",
              "      <td>1529</td>\n",
              "      <td>5</td>\n",
              "      <td>1995</td>\n",
              "      <td>5.054144</td>\n",
              "    </tr>\n",
              "    <tr>\n",
              "      <th>9004</th>\n",
              "      <td>Batman v Superman: Dawn of Justice</td>\n",
              "      <td>7189</td>\n",
              "      <td>5</td>\n",
              "      <td>2016</td>\n",
              "      <td>5.013943</td>\n",
              "    </tr>\n",
              "    <tr>\n",
              "      <th>1252</th>\n",
              "      <td>Batman &amp; Robin</td>\n",
              "      <td>1447</td>\n",
              "      <td>4</td>\n",
              "      <td>1997</td>\n",
              "      <td>4.287233</td>\n",
              "    </tr>\n",
              "  </tbody>\n",
              "</table>\n",
              "</div>"
            ],
            "text/plain": [
              "                                   title  vote_count  vote_average  year  \\\n",
              "7608                           Inception       14075             8  2010   \n",
              "8573                        Interstellar       11187             8  2014   \n",
              "6587                        The Prestige        4510             8  2006   \n",
              "3373                             Memento        4168             8  2000   \n",
              "7991               The Dark Knight Rises        9263             7  2012   \n",
              "6186                       Batman Begins        7511             7  2005   \n",
              "1122                      Batman Returns        1706             6  1992   \n",
              "132                       Batman Forever        1529             5  1995   \n",
              "9004  Batman v Superman: Dawn of Justice        7189             5  2016   \n",
              "1252                      Batman & Robin        1447             4  1997   \n",
              "\n",
              "            wr  \n",
              "7608  7.917588  \n",
              "8573  7.897107  \n",
              "6587  7.758148  \n",
              "3373  7.740175  \n",
              "7991  6.921448  \n",
              "6186  6.904127  \n",
              "1122  5.846862  \n",
              "132   5.054144  \n",
              "9004  5.013943  \n",
              "1252  4.287233  "
            ]
          },
          "execution_count": 54,
          "metadata": {},
          "output_type": "execute_result"
        }
      ],
      "source": [
        "improved_recommendations('The Dark Knight')\n"
      ]
    },
    {
      "cell_type": "markdown",
      "metadata": {
        "id": "j-2JhL-VzQhG"
      },
      "source": [
        "## Ejercicio\n",
        "\n",
        "Pruebe distintas películas y verifique si los resultados son suficientemente racionales"
      ]
    },
    {
      "cell_type": "code",
      "execution_count": 55,
      "metadata": {
        "id": "A0wb-3RRzfiY"
      },
      "outputs": [],
      "source": [
        "# inserte su código aquí\n",
        "\n"
      ]
    },
    {
      "cell_type": "markdown",
      "metadata": {
        "id": "w_ThIyNsuKHT"
      },
      "source": [
        "## Filtrado Colaborativo\n",
        "\n",
        "Nuestro motor basado en contenido tiene algunas limitaciones importantes. Solo es capaz de sugerir películas que están cerca de una cierta película. Es decir, no es capaz de captar gustos y proporcionar recomendaciones a través de géneros.\n",
        "\n",
        "Además, el motor que construimos no es realmente personal ya que no captura los gustos y sesgos personales de un usuario. Cualquier persona que consulte nuestro motor para recomendaciones basadas en una película recibirá las mismas recomendaciones para esa película, independientemente de quién sea.\n",
        "\n",
        "Por lo tanto, en esta sección, utilizaremos una técnica llamada Filtrado Colaborativo para hacer recomendaciones a los espectadores de películas. El Filtrado Colaborativo se basa en la idea de que los usuarios similares pueden ser utilizados para predecir cuánto me gustará un producto o servicio que esos usuarios han utilizado/experimentado, pero que yo no he probado.\n",
        "\n",
        "No se implementará el Filtrado Colaborativo desde cero. En su lugar, se utilizará la biblioteca Surprise que emplea algoritmos extremadamente poderosos como la Descomposición en Valores Singulares (SVD) para minimizar el RMSE (Error Cuadrático Medio) y proporcionar excelentes recomendaciones."
      ]
    },
    {
      "cell_type": "code",
      "execution_count": 56,
      "metadata": {
        "colab": {
          "base_uri": "https://localhost:8080/",
          "height": 206
        },
        "id": "CwLY8sALc1gC",
        "outputId": "47851080-a7b4-4240-cb79-95b33fb14e1b"
      },
      "outputs": [
        {
          "data": {
            "text/html": [
              "<div>\n",
              "<style scoped>\n",
              "    .dataframe tbody tr th:only-of-type {\n",
              "        vertical-align: middle;\n",
              "    }\n",
              "\n",
              "    .dataframe tbody tr th {\n",
              "        vertical-align: top;\n",
              "    }\n",
              "\n",
              "    .dataframe thead th {\n",
              "        text-align: right;\n",
              "    }\n",
              "</style>\n",
              "<table border=\"1\" class=\"dataframe\">\n",
              "  <thead>\n",
              "    <tr style=\"text-align: right;\">\n",
              "      <th></th>\n",
              "      <th>userId</th>\n",
              "      <th>movieId</th>\n",
              "      <th>rating</th>\n",
              "      <th>timestamp</th>\n",
              "    </tr>\n",
              "  </thead>\n",
              "  <tbody>\n",
              "    <tr>\n",
              "      <th>0</th>\n",
              "      <td>1</td>\n",
              "      <td>31</td>\n",
              "      <td>2.5</td>\n",
              "      <td>1260759144</td>\n",
              "    </tr>\n",
              "    <tr>\n",
              "      <th>1</th>\n",
              "      <td>1</td>\n",
              "      <td>1029</td>\n",
              "      <td>3.0</td>\n",
              "      <td>1260759179</td>\n",
              "    </tr>\n",
              "    <tr>\n",
              "      <th>2</th>\n",
              "      <td>1</td>\n",
              "      <td>1061</td>\n",
              "      <td>3.0</td>\n",
              "      <td>1260759182</td>\n",
              "    </tr>\n",
              "    <tr>\n",
              "      <th>3</th>\n",
              "      <td>1</td>\n",
              "      <td>1129</td>\n",
              "      <td>2.0</td>\n",
              "      <td>1260759185</td>\n",
              "    </tr>\n",
              "    <tr>\n",
              "      <th>4</th>\n",
              "      <td>1</td>\n",
              "      <td>1172</td>\n",
              "      <td>4.0</td>\n",
              "      <td>1260759205</td>\n",
              "    </tr>\n",
              "  </tbody>\n",
              "</table>\n",
              "</div>"
            ],
            "text/plain": [
              "   userId  movieId  rating   timestamp\n",
              "0       1       31     2.5  1260759144\n",
              "1       1     1029     3.0  1260759179\n",
              "2       1     1061     3.0  1260759182\n",
              "3       1     1129     2.0  1260759185\n",
              "4       1     1172     4.0  1260759205"
            ]
          },
          "execution_count": 56,
          "metadata": {},
          "output_type": "execute_result"
        }
      ],
      "source": [
        "reader = Reader()\n",
        "\n",
        "ratings = pd.read_csv('movies/ratings_small.csv')\n",
        "ratings.head()"
      ]
    },
    {
      "cell_type": "code",
      "execution_count": 57,
      "metadata": {
        "colab": {
          "base_uri": "https://localhost:8080/"
        },
        "id": "iImTZJxzuPUQ",
        "outputId": "2bea30a0-2a08-4fe4-fd0d-1ef13649e06b"
      },
      "outputs": [
        {
          "name": "stdout",
          "output_type": "stream",
          "text": [
            "Evaluating RMSE, MAE of algorithm SVD on 5 split(s).\n",
            "\n",
            "                  Fold 1  Fold 2  Fold 3  Fold 4  Fold 5  Mean    Std     \n",
            "RMSE (testset)    0.8924  0.8962  0.8985  0.9018  0.8986  0.8975  0.0031  \n",
            "MAE (testset)     0.6862  0.6928  0.6922  0.6922  0.6905  0.6908  0.0024  \n",
            "Fit time          0.64    0.66    0.65    0.71    0.65    0.66    0.02    \n",
            "Test time         0.09    0.07    0.07    0.16    0.07    0.09    0.04    \n"
          ]
        },
        {
          "data": {
            "text/plain": [
              "{'test_rmse': array([0.89235086, 0.89616937, 0.89847014, 0.90179106, 0.89859973]),\n",
              " 'test_mae': array([0.68623448, 0.6927623 , 0.69222276, 0.69217686, 0.69048231]),\n",
              " 'fit_time': (0.6371586322784424,\n",
              "  0.6609165668487549,\n",
              "  0.6492981910705566,\n",
              "  0.7053995132446289,\n",
              "  0.6514983177185059),\n",
              " 'test_time': (0.0855865478515625,\n",
              "  0.07190966606140137,\n",
              "  0.07220602035522461,\n",
              "  0.1617140769958496,\n",
              "  0.0692603588104248)}"
            ]
          },
          "execution_count": 57,
          "metadata": {},
          "output_type": "execute_result"
        }
      ],
      "source": [
        "data = Dataset.load_from_df(ratings[['userId', 'movieId', 'rating']], reader)\n",
        "\n",
        "svd = SVD()\n",
        "cross_validate(svd, data, measures=['RMSE', 'MAE'], cv=5, verbose=True)\n",
        "\n"
      ]
    },
    {
      "cell_type": "code",
      "execution_count": 58,
      "metadata": {
        "colab": {
          "base_uri": "https://localhost:8080/"
        },
        "id": "c4gZScDPvP3E",
        "outputId": "00143c37-b950-4bf6-9299-0813b0fa2ada"
      },
      "outputs": [
        {
          "data": {
            "text/plain": [
              "<surprise.prediction_algorithms.matrix_factorization.SVD at 0x792732a2b2c0>"
            ]
          },
          "execution_count": 58,
          "metadata": {},
          "output_type": "execute_result"
        }
      ],
      "source": [
        "trainset = data.build_full_trainset()\n",
        "svd.fit(trainset)"
      ]
    },
    {
      "cell_type": "code",
      "execution_count": 59,
      "metadata": {
        "colab": {
          "base_uri": "https://localhost:8080/",
          "height": 677
        },
        "id": "9DK16nd_vYaw",
        "outputId": "e8118557-c049-4bd1-f049-b18d7fdffb57"
      },
      "outputs": [
        {
          "data": {
            "text/html": [
              "<div>\n",
              "<style scoped>\n",
              "    .dataframe tbody tr th:only-of-type {\n",
              "        vertical-align: middle;\n",
              "    }\n",
              "\n",
              "    .dataframe tbody tr th {\n",
              "        vertical-align: top;\n",
              "    }\n",
              "\n",
              "    .dataframe thead th {\n",
              "        text-align: right;\n",
              "    }\n",
              "</style>\n",
              "<table border=\"1\" class=\"dataframe\">\n",
              "  <thead>\n",
              "    <tr style=\"text-align: right;\">\n",
              "      <th></th>\n",
              "      <th>userId</th>\n",
              "      <th>movieId</th>\n",
              "      <th>rating</th>\n",
              "      <th>timestamp</th>\n",
              "    </tr>\n",
              "  </thead>\n",
              "  <tbody>\n",
              "    <tr>\n",
              "      <th>0</th>\n",
              "      <td>1</td>\n",
              "      <td>31</td>\n",
              "      <td>2.5</td>\n",
              "      <td>1260759144</td>\n",
              "    </tr>\n",
              "    <tr>\n",
              "      <th>1</th>\n",
              "      <td>1</td>\n",
              "      <td>1029</td>\n",
              "      <td>3.0</td>\n",
              "      <td>1260759179</td>\n",
              "    </tr>\n",
              "    <tr>\n",
              "      <th>2</th>\n",
              "      <td>1</td>\n",
              "      <td>1061</td>\n",
              "      <td>3.0</td>\n",
              "      <td>1260759182</td>\n",
              "    </tr>\n",
              "    <tr>\n",
              "      <th>3</th>\n",
              "      <td>1</td>\n",
              "      <td>1129</td>\n",
              "      <td>2.0</td>\n",
              "      <td>1260759185</td>\n",
              "    </tr>\n",
              "    <tr>\n",
              "      <th>4</th>\n",
              "      <td>1</td>\n",
              "      <td>1172</td>\n",
              "      <td>4.0</td>\n",
              "      <td>1260759205</td>\n",
              "    </tr>\n",
              "    <tr>\n",
              "      <th>5</th>\n",
              "      <td>1</td>\n",
              "      <td>1263</td>\n",
              "      <td>2.0</td>\n",
              "      <td>1260759151</td>\n",
              "    </tr>\n",
              "    <tr>\n",
              "      <th>6</th>\n",
              "      <td>1</td>\n",
              "      <td>1287</td>\n",
              "      <td>2.0</td>\n",
              "      <td>1260759187</td>\n",
              "    </tr>\n",
              "    <tr>\n",
              "      <th>7</th>\n",
              "      <td>1</td>\n",
              "      <td>1293</td>\n",
              "      <td>2.0</td>\n",
              "      <td>1260759148</td>\n",
              "    </tr>\n",
              "    <tr>\n",
              "      <th>8</th>\n",
              "      <td>1</td>\n",
              "      <td>1339</td>\n",
              "      <td>3.5</td>\n",
              "      <td>1260759125</td>\n",
              "    </tr>\n",
              "    <tr>\n",
              "      <th>9</th>\n",
              "      <td>1</td>\n",
              "      <td>1343</td>\n",
              "      <td>2.0</td>\n",
              "      <td>1260759131</td>\n",
              "    </tr>\n",
              "    <tr>\n",
              "      <th>10</th>\n",
              "      <td>1</td>\n",
              "      <td>1371</td>\n",
              "      <td>2.5</td>\n",
              "      <td>1260759135</td>\n",
              "    </tr>\n",
              "    <tr>\n",
              "      <th>11</th>\n",
              "      <td>1</td>\n",
              "      <td>1405</td>\n",
              "      <td>1.0</td>\n",
              "      <td>1260759203</td>\n",
              "    </tr>\n",
              "    <tr>\n",
              "      <th>12</th>\n",
              "      <td>1</td>\n",
              "      <td>1953</td>\n",
              "      <td>4.0</td>\n",
              "      <td>1260759191</td>\n",
              "    </tr>\n",
              "    <tr>\n",
              "      <th>13</th>\n",
              "      <td>1</td>\n",
              "      <td>2105</td>\n",
              "      <td>4.0</td>\n",
              "      <td>1260759139</td>\n",
              "    </tr>\n",
              "    <tr>\n",
              "      <th>14</th>\n",
              "      <td>1</td>\n",
              "      <td>2150</td>\n",
              "      <td>3.0</td>\n",
              "      <td>1260759194</td>\n",
              "    </tr>\n",
              "    <tr>\n",
              "      <th>15</th>\n",
              "      <td>1</td>\n",
              "      <td>2193</td>\n",
              "      <td>2.0</td>\n",
              "      <td>1260759198</td>\n",
              "    </tr>\n",
              "    <tr>\n",
              "      <th>16</th>\n",
              "      <td>1</td>\n",
              "      <td>2294</td>\n",
              "      <td>2.0</td>\n",
              "      <td>1260759108</td>\n",
              "    </tr>\n",
              "    <tr>\n",
              "      <th>17</th>\n",
              "      <td>1</td>\n",
              "      <td>2455</td>\n",
              "      <td>2.5</td>\n",
              "      <td>1260759113</td>\n",
              "    </tr>\n",
              "    <tr>\n",
              "      <th>18</th>\n",
              "      <td>1</td>\n",
              "      <td>2968</td>\n",
              "      <td>1.0</td>\n",
              "      <td>1260759200</td>\n",
              "    </tr>\n",
              "    <tr>\n",
              "      <th>19</th>\n",
              "      <td>1</td>\n",
              "      <td>3671</td>\n",
              "      <td>3.0</td>\n",
              "      <td>1260759117</td>\n",
              "    </tr>\n",
              "  </tbody>\n",
              "</table>\n",
              "</div>"
            ],
            "text/plain": [
              "    userId  movieId  rating   timestamp\n",
              "0        1       31     2.5  1260759144\n",
              "1        1     1029     3.0  1260759179\n",
              "2        1     1061     3.0  1260759182\n",
              "3        1     1129     2.0  1260759185\n",
              "4        1     1172     4.0  1260759205\n",
              "5        1     1263     2.0  1260759151\n",
              "6        1     1287     2.0  1260759187\n",
              "7        1     1293     2.0  1260759148\n",
              "8        1     1339     3.5  1260759125\n",
              "9        1     1343     2.0  1260759131\n",
              "10       1     1371     2.5  1260759135\n",
              "11       1     1405     1.0  1260759203\n",
              "12       1     1953     4.0  1260759191\n",
              "13       1     2105     4.0  1260759139\n",
              "14       1     2150     3.0  1260759194\n",
              "15       1     2193     2.0  1260759198\n",
              "16       1     2294     2.0  1260759108\n",
              "17       1     2455     2.5  1260759113\n",
              "18       1     2968     1.0  1260759200\n",
              "19       1     3671     3.0  1260759117"
            ]
          },
          "execution_count": 59,
          "metadata": {},
          "output_type": "execute_result"
        }
      ],
      "source": [
        "ratings[ratings['userId'] == 1]"
      ]
    },
    {
      "cell_type": "code",
      "execution_count": 60,
      "metadata": {
        "colab": {
          "base_uri": "https://localhost:8080/"
        },
        "id": "I8EN8V9Ovt6Q",
        "outputId": "1e2b3025-a6d0-411e-f783-408c61d50349"
      },
      "outputs": [
        {
          "data": {
            "text/plain": [
              "Prediction(uid=1, iid=302, r_ui=3, est=2.7180670748500333, details={'was_impossible': False})"
            ]
          },
          "execution_count": 60,
          "metadata": {},
          "output_type": "execute_result"
        }
      ],
      "source": [
        "svd.predict(1, 302, 3)"
      ]
    },
    {
      "cell_type": "markdown",
      "metadata": {
        "id": "aPInmX6mv029"
      },
      "source": [
        "Para la película con ID 302, obtenemos una predicción estimada de 2.686. Este sistema de recomendación es no le importa qué película es (o qué contiene). Funciona puramente en función de un ID de película asignado y trata de predecir calificaciones basándose en cómo otros usuarios han calificado la película."
      ]
    },
    {
      "cell_type": "markdown",
      "metadata": {
        "id": "7eIUwgQRytAW"
      },
      "source": []
    }
  ],
  "metadata": {
    "colab": {
      "provenance": []
    },
    "kernelspec": {
      "display_name": "Python 3",
      "name": "python3"
    },
    "language_info": {
      "codemirror_mode": {
        "name": "ipython",
        "version": 3
      },
      "file_extension": ".py",
      "mimetype": "text/x-python",
      "name": "python",
      "nbconvert_exporter": "python",
      "pygments_lexer": "ipython3",
      "version": "3.12.4"
    }
  },
  "nbformat": 4,
  "nbformat_minor": 0
}
